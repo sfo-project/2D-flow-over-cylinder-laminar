{
 "cells": [
  {
   "cell_type": "markdown",
   "metadata": {},
   "source": [
    "# CFD Problem's Physics & Theory\n",
    "\n",
    "**In developing CFD simulation for a fluid mechanic problem understanding the general physics and fundamental theory of the problem is extremely important. This knowledge would provide users the ability to make logical decision about the geometry of CFD domain, choice of proper boundary conditions and numerical models for the CFD simulation. Furthermore, user will have a general big picture on the expected outcome of simulation. These knowledges and abilities form the foundation for a successful implementation and validation of the CFD simulation.**\n",
    "\n",
    "**In other words, understanding physics and theory of problem before developing a CFD simulation can be thought of turning on a flash light before taking any step in a completely dark room. Hence, let's review the fundamental physics and theory behind the problem of \"[insert the topic of problem here]\" as the first step for development and validation of CFD simulation for this problem of interest:**\n"
   ]
  },
  {
   "cell_type": "markdown",
   "metadata": {
    "collapsed": true
   },
   "source": [
    "### General statement ###\n",
    "One of the most fundamental study of fluid dynamics is about properties of flow around a blunt object. Flow over a cylinder is the basis of this field. Given a cylindrical object of a fixed dimension, the behavior of the flow is dependent on the Reynolds number, which is a dimensionless quantity widely applied in fluid dynamics.\n",
    "\n",
    "<img src=\"../Common_Files/Images/fig.9.15.png\" width=\"700\" align=\"middle\">"
   ]
  },
  {
   "cell_type": "markdown",
   "metadata": {},
   "source": [
    "In any fluid dynamics research, a control volume(*CV*) must be defined before other physical properties. By definition, a *Control Volume* is an inertial frame of reference within the continuum of a flow. As in this specific study, where flow is incompressible, a fixed *Control Volume* of any size satisfies our need. Thus, we could set a *Control Volume* to a specific area to study the flow within.\n",
    "\n",
    "Normally, given a *Control Volume* in a continuum, there are three major physical properties that are conservative within this *Control Volume*: **mass**, **momentum** and **energy**. In this very stage of the research, we don't consider any heat exchanging processes, that is, the energy conservation is always satisfied. Thus, we only consider the **conservation of mass and momentum** in order to study the flow behavior over a cylinder."
   ]
  },
  {
   "cell_type": "markdown",
   "metadata": {},
   "source": [
    "### Conservation of mass -- determine the velocity field ###\n",
    "\n",
    "The general form of mass conservation:\n",
    "\n",
    "$$\\frac{\\partial}{\\partial t} \\int_{CV} \\rho~dV + \\int_{CS} \\mathbf{n}~.~\\rho \\mathbf{V}~dA = 0 .$$\n",
    "\n",
    "Where $\\rho$ is the density of the fluid, $\\mathbf{V}$ is the velocity of if the *control surface*, which has a unit area of $dA$ and a direction of $\\mathbf{n}$. In this conservation equation, the first term is a result of change in accordance with time, which can be omitted in steady state. The second term, describes the mass flux in space, which has two dimensions in our study here. Thus, the equation can be reduced into:\n",
    "\n",
    "$$ \n",
    "\\frac{\\partial u}{\\partial x} + \\frac{\\partial v}{\\partial y} = 0 ,\n",
    "$$\n",
    "\n",
    "where $u$ is the horizontally disturbed velocity and $v$ are the vertical velocity component of the flow. Through this equation we can tell that, the velocity fluxes going into and out of any random *Control Volume* should be the same. Theoretically, we can calculate the velocity at any point around the cylinder, and thus conclude a velosity field in accordance with a Reyolds number given.\n"
   ]
  },
  {
   "cell_type": "markdown",
   "metadata": {},
   "source": [
    "### Conservation of momentum -- importance of drag force ###\n",
    "\n",
    "Obtaining the velocity field, we understand how the cylinder is affecting the flow. And to know the effect the flow put on the cylinder, we set our focus on the forces. There are two kinds of force acting on the cylinder, the one going streamwise, called the **drag force**, and the one perpendicular to the flow direction, named the **lift force**. Due to the symmetry of velocity field, the lift acting on the cylinder is always *zero*. Thus, the **drag** become the most important force that we want to study.\n",
    "\n",
    "To obtain the drag force acting on the cylinder, one can consider the conservation of momentum in streamwise direction. The general form of conservation of momentum equation states:\n",
    "\n",
    "$$\n",
    "\\sum \\mathbf{F_v} = \n",
    "\\frac{\\partial}{\\partial t} \\int_CV \\rho \\mathbf{V} dV +\n",
    "\\int_CS (\\mathbf{n}~.~\\rho \\mathbf{V}) \\mathbf{V} dA .\n",
    "$$\n",
    "\n",
    "By applying the equation above to an infinitesimal CV $\\delta V$, which initially bounds the mass $\\delta m$, we can obtain the differential form of the linear momentum equation:\n",
    "\n",
    "$$ \\delta \\mathbf{F} = \\frac{D( \\mathbf{V} \\delta m)}{Dt} $$\n",
    "\n",
    "Where $\\delta \\mathbf{F}$is the resultant force acting on $\\delta m$. As we are dealing with the whole system, $\\delta m$ can be considered as a constant, thus:\n",
    "\n",
    "$$ \\delta \\mathbf{F} = \\delta m \\frac{D \\mathbf{V} }{Dt} = \\delta m \\mathbf{a} $$\n",
    "\n",
    "Which is exactly Newton's second law. This expression for conservation of momentum connects the forces acting on the cylinder to the velocity of the flow. Since the drag is always acting in the horizontal direction, it can be calculated once we understand the flow pattern over the cylinder:\n",
    "\n",
    "$$\\delta \\mathbf{F_D} = \\rho \\delta V\n",
    "(\\frac{\\partial u}{\\partial t}\n",
    "+ u\\frac{\\partial u}{\\partial x}\n",
    "+ v\\frac{\\partial u}{\\partial y})$$\n",
    "\n",
    "However, as is previously described, the flow pattern can never be theoretically solved, we can only approach the drag force with some numerical solutions.\n"
   ]
  },
  {
   "cell_type": "markdown",
   "metadata": {},
   "source": [
    "### Dimensional Analysis -- defining drag coefficient###\n",
    "\n",
    "Although it is theoretically impossible to solve for a drag force over an object, one can still find out laws describing the drag force with dimensional analysis. Given a certain cylinder immersed in a flow of a constant velocity $V$, the drag force acting on the cylinder can be described as a function of all the variables involved:\n",
    "\n",
    "$$ \\mathbf{F_D} = f (d,\\mu,\\rho,V) $$\n",
    "\n",
    "Where $d$ is the dimension of the cylinder, $\\mu$ and $\\rho$ are the viscosity and density of the fluid. As there are 5 variables and 3 reference dimensions(i.e., $M, L, T$), 2 $\\Pi$ terms will be needed to finish the dimensional analysis:\n",
    "\n",
    "$$\n",
    "\\Pi_1 = \\frac{\\rho V d}{\\mu} = Re\n",
    "$$\n",
    "\n",
    "$$\n",
    "\\Pi_2 = \\frac{\\mathbf{F_D}}{d^2 \\rho V^2 }\n",
    "$$\n",
    "\n",
    "Thus,\n",
    "\n",
    "$$ \\phi(Re) = \\frac{\\mathbf{F_D}}{d^2 \\rho V^2 }  $$\n",
    "\n",
    "The equation above connects $\\mathbf{F_D}$, $d$, $\\rho$ and $V$ to the *Reynolds number*, which is a key parameter describing the flow pattern. As $d^2$ has the same dimension as the area $A$, the equation above can be expressed as:\n",
    "\n",
    "$$ C_D(Re) = \\frac{2\\mathbf{F_D}}{A \\rho V^2 }  $$\n",
    "\n",
    "Which defines the *drag coefficient* that helps us to study drag force in a much easier approach.\n",
    "\n",
    "In this equation $F_D$, the total drag force due to pressure and viscous forces within the flow acting on the cylinder's surface in the streamwise direction, is normalized with the available momentum within the undisturbed incoming flow that could be exerted on the cylinder. The value of this momentum is calculated using $\\rho$ as the reference density of the flow, which is the density of the flow. $V$ as the undisturbed streamwise flow velocity in the inlet and $A$, which is the projected area of the cylinder surface. For a two-dimensional cylinder the projected area is equal to the diameter of the cylinder. This is the area where pressure and viscous forces are acting on the cylinder in the streamwise direction. It should be noted that the pressure and viscous forces in the perpendicular direction to streamwise direction cancel each other. Hence, the forces and areas that they act on does not have any contribution to the drag force and coefficient.\n"
   ]
  },
  {
   "cell_type": "markdown",
   "metadata": {},
   "source": [
    "As we can tell from the analysis above, both calculating the velocity field and the drag force need a lot of efforts. This is particularly true if one want to reach a high accuracy, let along dealing with some more complex situation. This is when computational fluid dynamics, or **CFD**, come into place. With the help of CFD, one can divide the area of interest into multiple small *control volumes*,called meshes, where a steady state is always satisfied. Once input the physical settings for the flow, the computer can finish the calculation without consuming much human power. Thus, with proper meshing methods and input parameters, CFD is an effective approach to obtain the velocity field and drag coefficient."
   ]
  },
  {
   "cell_type": "code",
   "execution_count": null,
   "metadata": {
    "collapsed": true
   },
   "outputs": [],
   "source": []
  }
 ],
 "metadata": {
  "kernelspec": {
   "display_name": "Python 3",
   "language": "python",
   "name": "python3"
  },
  "language_info": {
   "codemirror_mode": {
    "name": "ipython",
    "version": 3
   },
   "file_extension": ".py",
   "mimetype": "text/x-python",
   "name": "python",
   "nbconvert_exporter": "python",
   "pygments_lexer": "ipython3",
   "version": "3.5.1"
  }
 },
 "nbformat": 4,
 "nbformat_minor": 0
}
