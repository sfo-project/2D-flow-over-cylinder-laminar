{
 "cells": [
  {
   "cell_type": "markdown",
   "metadata": {},
   "source": [
    "**[1. Problem's Physics & Theory](../Common_Files/Physics.ipynb)** | **[2. Domain's Creation & Discretization](../Common_Files/Domain.ipynb)**\n",
    "------------- | -------------\n",
    "<img src=\"../Common_Files/Images/fig.9.15.png\" width=\"350\"> | <img src=\"../Common_Files/Images/large_squares_meshed.png\" width=\"350\">\n",
    "**[3. Simulation Case Setup](./Simulation.ipynb)** | **[4. Results Post-Process and Validation](./Post_Process.ipynb)**\n",
    "<img src=\"./Images/Re_50_Residuals.png\" width=\"350\"> | <img src=\"./Images/comparison_table.png\" width=\"350\">"
   ]
  },
  {
   "cell_type": "code",
   "execution_count": null,
   "metadata": {
    "collapsed": true
   },
   "outputs": [],
   "source": []
  }
 ],
 "metadata": {
  "kernelspec": {
   "display_name": "Python 3",
   "language": "python",
   "name": "python3"
  },
  "language_info": {
   "codemirror_mode": {
    "name": "ipython",
    "version": 3
   },
   "file_extension": ".py",
   "mimetype": "text/x-python",
   "name": "python",
   "nbconvert_exporter": "python",
   "pygments_lexer": "ipython3",
   "version": "3.5.1"
  }
 },
 "nbformat": 4,
 "nbformat_minor": 0
}
